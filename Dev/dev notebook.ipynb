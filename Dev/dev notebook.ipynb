{
 "cells": [
  {
   "cell_type": "code",
   "execution_count": 8,
   "id": "initial_id",
   "metadata": {
    "collapsed": true,
    "ExecuteTime": {
     "end_time": "2024-07-14T06:26:27.427185Z",
     "start_time": "2024-07-14T06:26:27.408468Z"
    }
   },
   "outputs": [],
   "source": [
    "with open(\"../.env\", \"r\") as f:\n",
    "    result = f.read().split(\"\\n\")"
   ]
  },
  {
   "cell_type": "code",
   "execution_count": 9,
   "outputs": [
    {
     "data": {
      "text/plain": "['CC=03011971ROD', 'AB=03011DBFN', 'DE=CAT09', '']"
     },
     "execution_count": 9,
     "metadata": {},
     "output_type": "execute_result"
    }
   ],
   "source": [
    "result"
   ],
   "metadata": {
    "collapsed": false,
    "ExecuteTime": {
     "end_time": "2024-07-14T06:26:28.181694Z",
     "start_time": "2024-07-14T06:26:28.156547Z"
    }
   },
   "id": "f399f9d2bcea09b5"
  },
  {
   "cell_type": "code",
   "execution_count": null,
   "outputs": [],
   "source": [
    "\n",
    "[i for i in result if i]"
   ],
   "metadata": {
    "collapsed": false
   },
   "id": "6379870fdfc5984c"
  }
 ],
 "metadata": {
  "kernelspec": {
   "display_name": "Python 3",
   "language": "python",
   "name": "python3"
  },
  "language_info": {
   "codemirror_mode": {
    "name": "ipython",
    "version": 2
   },
   "file_extension": ".py",
   "mimetype": "text/x-python",
   "name": "python",
   "nbconvert_exporter": "python",
   "pygments_lexer": "ipython2",
   "version": "2.7.6"
  }
 },
 "nbformat": 4,
 "nbformat_minor": 5
}
